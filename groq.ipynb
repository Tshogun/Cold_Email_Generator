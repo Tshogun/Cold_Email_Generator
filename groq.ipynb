{
 "cells": [
  {
   "cell_type": "code",
   "execution_count": 24,
   "id": "f792c621-9e30-4451-a5bb-bffcbeca795b",
   "metadata": {},
   "outputs": [],
   "source": [
    "from langchain_core.prompts import ChatPromptTemplate, PromptTemplate\n",
    "from langchain_groq import ChatGroq\n",
    "from langchain_community.document_loaders import WebBaseLoader\n",
    "import re\n",
    "from langchain_core.output_parsers import JsonOutputParser\n",
    "import pandas as pd\n",
    "import chromadb\n",
    "import uuid"
   ]
  },
  {
   "cell_type": "code",
   "execution_count": 2,
   "id": "3f4a1fad-c3a9-4330-9134-d1d7d517bb0d",
   "metadata": {},
   "outputs": [],
   "source": [
    "llm = ChatGroq(\n",
    "    model=\"llama-3.1-70b-versatile\",\n",
    "    temperature=0.0,\n",
    "    groq_api_key=\"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\",\n",
    ")"
   ]
  },
  {
   "cell_type": "code",
   "execution_count": 34,
   "id": "a085e3ba-566e-4c41-9ee4-c5d07506bf78",
   "metadata": {},
   "outputs": [
    {
     "name": "stdout",
     "output_type": "stream",
     "text": [
      "Software Engineer, Corporate Planning & Management, Platform Engineering | Goldman SachsSoftware Engineer, Corporate Planning & Management, Platform Engineeringlocation_onNew York, New York, United StatesSoftware Engineer, Corporate Planning & Management, Platform EngineeringApplySoftware Engineer, Corporate Planning & Management, Platform Engineeringlocation_onNew York, New York, United StatesApply\n",
      "What We Do \n",
      "\n",
      "Corporate Planning & Management (CPM) manages the firm’s liquidity, capital, and risk, and provides the overall financial control and reporting function. CPM unifies Finance & Planning, Spend Management, Operational Risk and Resilience, and CPM Engineering teams to deliver business planning and analytics, expense management, third party risk management, sustainability strategy for our operations and supply chain, and governance strategies across the firm. \n",
      "Within CPM, Platform Engineering provides solutions that enable the firm to manage third-party spend, data and automation, plan budgets, forecast financial scenarios, allocate expenses, and support corporate decision making in-line with the firm's strategic objectives. \n",
      " \n",
      "Who We Look For\n",
      "Our people come from a range of disciplines, including finance, management, engineering, political science, communications, the arts and sciences, and many more. We’re looking for candidates who will thrive in a dynamic environment and are motivated to create meaningful impact in everything they do. You should be comfortable working in a team and be a curious, analytical thinker. Strong communication and interpersonal skills are important in order to work successfully with internal clients and team members globally.\n",
      "Above all we value integrity, a strong work ethic and a desire for excellence from our people.\n",
      " \n",
      "Basic Qualifications:\n",
      "Advanced degree in Computer Science, Mathematics, Electrical Engineering, or related technical discipline.2-6 years' experience in software development, including a clear understanding of data structures, algorithms, software design, and core programming concepts.Comfortable multi-tasking, communicating with stakeholders, and working as part of a team.Excellent communication skills.A willingness to learn new technologies including the firm’s proprietary risk management system and programming languages SecDB & Slang.Willing to apply an entrepreneurial approach and passion to problem solving and product development.\n",
      " \n",
      "Preferred Qualifications:\n",
      "Experience in designing highly scalable, efficient systems.Experience with microservice architectures (SOA).Experience with cloud technologies, preferably AWS or Azure.Experience with SQL databases (PostgreSQL/Oracle/Sybase).Experience with Kafka, MongoDB, Hadoop, Cassandra.Experience in Financial Services or FinTech.Familiarity with financial markets and assets is a plus.\n",
      " \n",
      "ABOUT GOLDMAN SACHS\n",
      "At Goldman Sachs, we commit our people, capital and ideas to help our clients, shareholders and the communities we serve to grow. Founded in 1869, we are a leading global investment banking, securities and investment management firm. Headquartered in New York, we maintain offices around the world. \n",
      "We believe who you are makes you better at what you do. We're committed to fostering and advancing diversity and inclusion in our own workplace and beyond by ensuring every individual within our firm has a number of opportunities to grow professionally and personally, from our training and development opportunities and firmwide networks to benefits, wellness and personal finance offerings and mindfulness programs. Learn more about our culture, benefits, and people at GS.com/careers. \n",
      "We’re committed to finding reasonable accommodations for candidates with special needs or disabilities during our recruiting process. Learn more: https://www.goldmansachs.com/careers/footer/disability-statement.html \n",
      "© The Goldman Sachs Group, Inc., 2023. All rights reserved.\n",
      "Goldman Sachs is an equal employment/affirmative action employer Female/Minority/Disability/Veteran/Sexual Orientation/Gender Identity\n",
      "\n",
      "\n",
      "Salary Range\n",
      " The expected base salary for this New York, New York, United States-based position is $115000-$180000. In addition, you may be eligible for a discretionary bonus if you are an active employee as of fiscal year-end.\n",
      "\n",
      "\n",
      "Benefits\n",
      " Goldman Sachs is committed to providing our people with valuable and competitive benefits and wellness offerings, as it is a core part of providing a strong overall employee experience. A summary of these offerings, which are generally available\n",
      "    to active, non-temporary, full-time and part-time US employees who work at least 20 hours per week, can be found here.\n",
      "\n",
      "\n",
      "\n"
     ]
    }
   ],
   "source": [
    "loader = WebBaseLoader(\"https://higher.gs.com/roles/137812\")\n",
    "page_data = loader.load().pop().page_content\n",
    "print(page_data)"
   ]
  },
  {
   "cell_type": "code",
   "execution_count": 17,
   "id": "171d384a-4bbe-4460-9f87-722a8fea7253",
   "metadata": {},
   "outputs": [],
   "source": [
    "def remove_whitespace(page_data):\n",
    "    # Remove extra spaces, newlines, and tabs\n",
    "    cleaned_data = re.sub(r'\\s+', ' ', page_data)  # Replace multiple whitespace with a single space\n",
    "    cleaned_data = cleaned_data.strip()  # Remove leading and trailing spaces\n",
    "    \n",
    "    return cleaned_data"
   ]
  },
  {
   "cell_type": "code",
   "execution_count": 35,
   "id": "42008b76-9fb7-4939-ab1c-58f57518fdf4",
   "metadata": {
    "scrolled": true
   },
   "outputs": [
    {
     "name": "stdout",
     "output_type": "stream",
     "text": [
      "Software Engineer, Corporate Planning & Management, Platform Engineering | Goldman SachsSoftware Engineer, Corporate Planning & Management, Platform Engineeringlocation_onNew York, New York, United StatesSoftware Engineer, Corporate Planning & Management, Platform EngineeringApplySoftware Engineer, Corporate Planning & Management, Platform Engineeringlocation_onNew York, New York, United StatesApply What We Do Corporate Planning & Management (CPM) manages the firm’s liquidity, capital, and risk, and provides the overall financial control and reporting function. CPM unifies Finance & Planning, Spend Management, Operational Risk and Resilience, and CPM Engineering teams to deliver business planning and analytics, expense management, third party risk management, sustainability strategy for our operations and supply chain, and governance strategies across the firm. Within CPM, Platform Engineering provides solutions that enable the firm to manage third-party spend, data and automation, plan budgets, forecast financial scenarios, allocate expenses, and support corporate decision making in-line with the firm's strategic objectives. Who We Look For Our people come from a range of disciplines, including finance, management, engineering, political science, communications, the arts and sciences, and many more. We’re looking for candidates who will thrive in a dynamic environment and are motivated to create meaningful impact in everything they do. You should be comfortable working in a team and be a curious, analytical thinker. Strong communication and interpersonal skills are important in order to work successfully with internal clients and team members globally. Above all we value integrity, a strong work ethic and a desire for excellence from our people. Basic Qualifications: Advanced degree in Computer Science, Mathematics, Electrical Engineering, or related technical discipline.2-6 years' experience in software development, including a clear understanding of data structures, algorithms, software design, and core programming concepts.Comfortable multi-tasking, communicating with stakeholders, and working as part of a team.Excellent communication skills.A willingness to learn new technologies including the firm’s proprietary risk management system and programming languages SecDB & Slang.Willing to apply an entrepreneurial approach and passion to problem solving and product development. Preferred Qualifications: Experience in designing highly scalable, efficient systems.Experience with microservice architectures (SOA).Experience with cloud technologies, preferably AWS or Azure.Experience with SQL databases (PostgreSQL/Oracle/Sybase).Experience with Kafka, MongoDB, Hadoop, Cassandra.Experience in Financial Services or FinTech.Familiarity with financial markets and assets is a plus. ABOUT GOLDMAN SACHS At Goldman Sachs, we commit our people, capital and ideas to help our clients, shareholders and the communities we serve to grow. Founded in 1869, we are a leading global investment banking, securities and investment management firm. Headquartered in New York, we maintain offices around the world. We believe who you are makes you better at what you do. We're committed to fostering and advancing diversity and inclusion in our own workplace and beyond by ensuring every individual within our firm has a number of opportunities to grow professionally and personally, from our training and development opportunities and firmwide networks to benefits, wellness and personal finance offerings and mindfulness programs. Learn more about our culture, benefits, and people at GS.com/careers. We’re committed to finding reasonable accommodations for candidates with special needs or disabilities during our recruiting process. Learn more: https://www.goldmansachs.com/careers/footer/disability-statement.html © The Goldman Sachs Group, Inc., 2023. All rights reserved. Goldman Sachs is an equal employment/affirmative action employer Female/Minority/Disability/Veteran/Sexual Orientation/Gender Identity Salary Range The expected base salary for this New York, New York, United States-based position is $115000-$180000. In addition, you may be eligible for a discretionary bonus if you are an active employee as of fiscal year-end. Benefits Goldman Sachs is committed to providing our people with valuable and competitive benefits and wellness offerings, as it is a core part of providing a strong overall employee experience. A summary of these offerings, which are generally available to active, non-temporary, full-time and part-time US employees who work at least 20 hours per week, can be found here.\n"
     ]
    }
   ],
   "source": [
    "cleaned_page_data = remove_whitespace(page_data)\n",
    "print(cleaned_page_data)"
   ]
  },
  {
   "cell_type": "code",
   "execution_count": 8,
   "id": "dca74b92-e026-43be-8159-fb1bc1865e59",
   "metadata": {},
   "outputs": [],
   "source": [
    "prompt_extract = PromptTemplate.from_template(\n",
    "    \"\"\"\n",
    "    ###SCRAPED TEXT FROM WEBSITE:{page_data}\n",
    "    The scraped text is from career's page of a website.\n",
    "    Your job is to extract the job postings and return them in JSON format containing following keys:\n",
    "    'role', 'experience', 'skills', and 'description'\n",
    "    only return the valid JSON.\n",
    "    ###VALID JSON (NO PREAMBLE)\n",
    "    \"\"\"\n",
    ")"
   ]
  },
  {
   "cell_type": "code",
   "execution_count": 36,
   "id": "af7ad17d-0279-4bfa-8b4d-d25b34ae4f1c",
   "metadata": {},
   "outputs": [
    {
     "name": "stdout",
     "output_type": "stream",
     "text": [
      "```json\n",
      "{\n",
      "  \"role\": \"Software Engineer, Corporate Planning & Management, Platform Engineering\",\n",
      "  \"experience\": \"2-6 years\",\n",
      "  \"skills\": [\n",
      "    \"Advanced degree in Computer Science, Mathematics, Electrical Engineering, or related technical discipline\",\n",
      "    \"Experience in designing highly scalable, efficient systems\",\n",
      "    \"Experience with microservice architectures (SOA)\",\n",
      "    \"Experience with cloud technologies, preferably AWS or Azure\",\n",
      "    \"Experience with SQL databases (PostgreSQL/Oracle/Sybase)\",\n",
      "    \"Experience with Kafka, MongoDB, Hadoop, Cassandra\",\n",
      "    \"Experience in Financial Services or FinTech\",\n",
      "    \"Familiarity with financial markets and assets\"\n",
      "  ],\n",
      "  \"description\": \"Corporate Planning & Management (CPM) manages the firm’s liquidity, capital, and risk, and provides the overall financial control and reporting function. CPM unifies Finance & Planning, Spend Management, Operational Risk and Resilience, and CPM Engineering teams to deliver business planning and analytics, expense management, third party risk management, sustainability strategy for our operations and supply chain, and governance strategies across the firm. Within CPM, Platform Engineering provides solutions that enable the firm to manage third-party spend, data and automation, plan budgets, forecast financial scenarios, allocate expenses, and support corporate decision making in-line with the firm's strategic objectives.\"\n",
      "}\n",
      "```\n"
     ]
    }
   ],
   "source": [
    "chain_extract = prompt_extract | llm\n",
    "res = chain_extract.invoke(input={'page_data': cleaned_page_data})\n",
    "print(res.content)"
   ]
  },
  {
   "cell_type": "code",
   "execution_count": 37,
   "id": "b09ab1db-4223-456b-82b6-0e425ea14d3b",
   "metadata": {},
   "outputs": [
    {
     "data": {
      "text/plain": [
       "{'role': 'Software Engineer, Corporate Planning & Management, Platform Engineering',\n",
       " 'experience': '2-6 years',\n",
       " 'skills': ['Advanced degree in Computer Science, Mathematics, Electrical Engineering, or related technical discipline',\n",
       "  'Experience in designing highly scalable, efficient systems',\n",
       "  'Experience with microservice architectures (SOA)',\n",
       "  'Experience with cloud technologies, preferably AWS or Azure',\n",
       "  'Experience with SQL databases (PostgreSQL/Oracle/Sybase)',\n",
       "  'Experience with Kafka, MongoDB, Hadoop, Cassandra',\n",
       "  'Experience in Financial Services or FinTech',\n",
       "  'Familiarity with financial markets and assets'],\n",
       " 'description': \"Corporate Planning & Management (CPM) manages the firm’s liquidity, capital, and risk, and provides the overall financial control and reporting function. CPM unifies Finance & Planning, Spend Management, Operational Risk and Resilience, and CPM Engineering teams to deliver business planning and analytics, expense management, third party risk management, sustainability strategy for our operations and supply chain, and governance strategies across the firm. Within CPM, Platform Engineering provides solutions that enable the firm to manage third-party spend, data and automation, plan budgets, forecast financial scenarios, allocate expenses, and support corporate decision making in-line with the firm's strategic objectives.\"}"
      ]
     },
     "execution_count": 37,
     "metadata": {},
     "output_type": "execute_result"
    }
   ],
   "source": [
    "json_parser = JsonOutputParser()\n",
    "json_res = json_parser.parse(res.content)\n",
    "json_res"
   ]
  },
  {
   "cell_type": "code",
   "execution_count": 20,
   "id": "13d539e4-6614-4cf8-a529-99141d7b8022",
   "metadata": {},
   "outputs": [],
   "source": [
    "df = pd.read_csv(\"my_portfolio.csv\")"
   ]
  },
  {
   "cell_type": "code",
   "execution_count": 21,
   "id": "24f42fd5-1694-4778-af85-9d19ce0cf542",
   "metadata": {
    "scrolled": true
   },
   "outputs": [
    {
     "data": {
      "text/html": [
       "<div>\n",
       "<style scoped>\n",
       "    .dataframe tbody tr th:only-of-type {\n",
       "        vertical-align: middle;\n",
       "    }\n",
       "\n",
       "    .dataframe tbody tr th {\n",
       "        vertical-align: top;\n",
       "    }\n",
       "\n",
       "    .dataframe thead th {\n",
       "        text-align: right;\n",
       "    }\n",
       "</style>\n",
       "<table border=\"1\" class=\"dataframe\">\n",
       "  <thead>\n",
       "    <tr style=\"text-align: right;\">\n",
       "      <th></th>\n",
       "      <th>Techstack</th>\n",
       "      <th>Links</th>\n",
       "    </tr>\n",
       "  </thead>\n",
       "  <tbody>\n",
       "    <tr>\n",
       "      <th>0</th>\n",
       "      <td>React, Node.js, MongoDB</td>\n",
       "      <td>https://example.com/react-portfolio</td>\n",
       "    </tr>\n",
       "    <tr>\n",
       "      <th>1</th>\n",
       "      <td>Angular,.NET, SQL Server</td>\n",
       "      <td>https://example.com/angular-portfolio</td>\n",
       "    </tr>\n",
       "    <tr>\n",
       "      <th>2</th>\n",
       "      <td>Vue.js, Ruby on Rails, PostgreSQL</td>\n",
       "      <td>https://example.com/vue-portfolio</td>\n",
       "    </tr>\n",
       "    <tr>\n",
       "      <th>3</th>\n",
       "      <td>Python, Django, MySQL</td>\n",
       "      <td>https://example.com/python-portfolio</td>\n",
       "    </tr>\n",
       "    <tr>\n",
       "      <th>4</th>\n",
       "      <td>Java, Spring Boot, Oracle</td>\n",
       "      <td>https://example.com/java-portfolio</td>\n",
       "    </tr>\n",
       "    <tr>\n",
       "      <th>5</th>\n",
       "      <td>Flutter, Firebase, GraphQL</td>\n",
       "      <td>https://example.com/flutter-portfolio</td>\n",
       "    </tr>\n",
       "    <tr>\n",
       "      <th>6</th>\n",
       "      <td>WordPress, PHP, MySQL</td>\n",
       "      <td>https://example.com/wordpress-portfolio</td>\n",
       "    </tr>\n",
       "    <tr>\n",
       "      <th>7</th>\n",
       "      <td>Magento, PHP, MySQL</td>\n",
       "      <td>https://example.com/magento-portfolio</td>\n",
       "    </tr>\n",
       "    <tr>\n",
       "      <th>8</th>\n",
       "      <td>React Native, Node.js, MongoDB</td>\n",
       "      <td>https://example.com/react-native-portfolio</td>\n",
       "    </tr>\n",
       "    <tr>\n",
       "      <th>9</th>\n",
       "      <td>iOS, Swift, Core Data</td>\n",
       "      <td>https://example.com/ios-portfolio</td>\n",
       "    </tr>\n",
       "    <tr>\n",
       "      <th>10</th>\n",
       "      <td>Android, Java, Room Persistence</td>\n",
       "      <td>https://example.com/android-portfolio</td>\n",
       "    </tr>\n",
       "    <tr>\n",
       "      <th>11</th>\n",
       "      <td>Kotlin, Android, Firebase</td>\n",
       "      <td>https://example.com/kotlin-android-portfolio</td>\n",
       "    </tr>\n",
       "    <tr>\n",
       "      <th>12</th>\n",
       "      <td>Android TV, Kotlin, Android NDK</td>\n",
       "      <td>https://example.com/android-tv-portfolio</td>\n",
       "    </tr>\n",
       "    <tr>\n",
       "      <th>13</th>\n",
       "      <td>iOS, Swift, ARKit</td>\n",
       "      <td>https://example.com/ios-ar-portfolio</td>\n",
       "    </tr>\n",
       "    <tr>\n",
       "      <th>14</th>\n",
       "      <td>Cross-platform, Xamarin, Azure</td>\n",
       "      <td>https://example.com/xamarin-portfolio</td>\n",
       "    </tr>\n",
       "    <tr>\n",
       "      <th>15</th>\n",
       "      <td>Backend, Kotlin, Spring Boot</td>\n",
       "      <td>https://example.com/kotlin-backend-portfolio</td>\n",
       "    </tr>\n",
       "    <tr>\n",
       "      <th>16</th>\n",
       "      <td>Frontend, TypeScript, Angular</td>\n",
       "      <td>https://example.com/typescript-frontend-portfolio</td>\n",
       "    </tr>\n",
       "    <tr>\n",
       "      <th>17</th>\n",
       "      <td>Full-stack, JavaScript, Express.js</td>\n",
       "      <td>https://example.com/full-stack-js-portfolio</td>\n",
       "    </tr>\n",
       "    <tr>\n",
       "      <th>18</th>\n",
       "      <td>Machine Learning, Python, TensorFlow</td>\n",
       "      <td>https://example.com/ml-python-portfolio</td>\n",
       "    </tr>\n",
       "    <tr>\n",
       "      <th>19</th>\n",
       "      <td>DevOps, Jenkins, Docker</td>\n",
       "      <td>https://example.com/devops-portfolio</td>\n",
       "    </tr>\n",
       "  </tbody>\n",
       "</table>\n",
       "</div>"
      ],
      "text/plain": [
       "                               Techstack  \\\n",
       "0                React, Node.js, MongoDB   \n",
       "1               Angular,.NET, SQL Server   \n",
       "2      Vue.js, Ruby on Rails, PostgreSQL   \n",
       "3                  Python, Django, MySQL   \n",
       "4              Java, Spring Boot, Oracle   \n",
       "5             Flutter, Firebase, GraphQL   \n",
       "6                  WordPress, PHP, MySQL   \n",
       "7                    Magento, PHP, MySQL   \n",
       "8         React Native, Node.js, MongoDB   \n",
       "9                  iOS, Swift, Core Data   \n",
       "10       Android, Java, Room Persistence   \n",
       "11             Kotlin, Android, Firebase   \n",
       "12       Android TV, Kotlin, Android NDK   \n",
       "13                     iOS, Swift, ARKit   \n",
       "14        Cross-platform, Xamarin, Azure   \n",
       "15          Backend, Kotlin, Spring Boot   \n",
       "16         Frontend, TypeScript, Angular   \n",
       "17    Full-stack, JavaScript, Express.js   \n",
       "18  Machine Learning, Python, TensorFlow   \n",
       "19               DevOps, Jenkins, Docker   \n",
       "\n",
       "                                                Links  \n",
       "0                 https://example.com/react-portfolio  \n",
       "1               https://example.com/angular-portfolio  \n",
       "2                   https://example.com/vue-portfolio  \n",
       "3                https://example.com/python-portfolio  \n",
       "4                  https://example.com/java-portfolio  \n",
       "5               https://example.com/flutter-portfolio  \n",
       "6             https://example.com/wordpress-portfolio  \n",
       "7               https://example.com/magento-portfolio  \n",
       "8          https://example.com/react-native-portfolio  \n",
       "9                   https://example.com/ios-portfolio  \n",
       "10              https://example.com/android-portfolio  \n",
       "11       https://example.com/kotlin-android-portfolio  \n",
       "12           https://example.com/android-tv-portfolio  \n",
       "13               https://example.com/ios-ar-portfolio  \n",
       "14              https://example.com/xamarin-portfolio  \n",
       "15       https://example.com/kotlin-backend-portfolio  \n",
       "16  https://example.com/typescript-frontend-portfolio  \n",
       "17        https://example.com/full-stack-js-portfolio  \n",
       "18            https://example.com/ml-python-portfolio  \n",
       "19               https://example.com/devops-portfolio  "
      ]
     },
     "execution_count": 21,
     "metadata": {},
     "output_type": "execute_result"
    }
   ],
   "source": [
    "df"
   ]
  },
  {
   "cell_type": "code",
   "execution_count": 25,
   "id": "4746f97e-81fe-457f-a9c7-e99d9d180d33",
   "metadata": {},
   "outputs": [
    {
     "name": "stderr",
     "output_type": "stream",
     "text": [
      "C:\\Users\\91801\\.cache\\chroma\\onnx_models\\all-MiniLM-L6-v2\\onnx.tar.gz: 100%|███████████████████████████████████████████████████████████████████████████████████████████| 79.3M/79.3M [01:52<00:00, 738kiB/s]\n"
     ]
    }
   ],
   "source": [
    "client = chromadb.PersistentClient('vectorstore')\n",
    "collection = client.get_or_create_collection(name=\"portfolio\")\n",
    "\n",
    "if not collection.count():\n",
    "    for _, row in df.iterrows():\n",
    "        collection.add(documents=row[\"Techstack\"],\n",
    "                       metadatas={\"links\": row[\"Links\"]},\n",
    "                       ids=[str(uuid.uuid4())])"
   ]
  },
  {
   "cell_type": "code",
   "execution_count": 38,
   "id": "f411b932-db73-457d-8d30-d10f299ac02b",
   "metadata": {},
   "outputs": [
    {
     "data": {
      "text/plain": [
       "['Advanced degree in Computer Science, Mathematics, Electrical Engineering, or related technical discipline',\n",
       " 'Experience in designing highly scalable, efficient systems',\n",
       " 'Experience with microservice architectures (SOA)',\n",
       " 'Experience with cloud technologies, preferably AWS or Azure',\n",
       " 'Experience with SQL databases (PostgreSQL/Oracle/Sybase)',\n",
       " 'Experience with Kafka, MongoDB, Hadoop, Cassandra',\n",
       " 'Experience in Financial Services or FinTech',\n",
       " 'Familiarity with financial markets and assets']"
      ]
     },
     "execution_count": 38,
     "metadata": {},
     "output_type": "execute_result"
    }
   ],
   "source": [
    "job = json_res\n",
    "job['skills']"
   ]
  },
  {
   "cell_type": "code",
   "execution_count": 39,
   "id": "4ba14cb3-77a8-4932-9782-f24db4b7fc3b",
   "metadata": {},
   "outputs": [
    {
     "data": {
      "text/plain": [
       "[[{'links': 'https://example.com/ml-python-portfolio'},\n",
       "  {'links': 'https://example.com/angular-portfolio'}],\n",
       " [{'links': 'https://example.com/android-portfolio'},\n",
       "  {'links': 'https://example.com/vue-portfolio'}],\n",
       " [{'links': 'https://example.com/xamarin-portfolio'},\n",
       "  {'links': 'https://example.com/android-portfolio'}],\n",
       " [{'links': 'https://example.com/xamarin-portfolio'},\n",
       "  {'links': 'https://example.com/devops-portfolio'}],\n",
       " [{'links': 'https://example.com/vue-portfolio'},\n",
       "  {'links': 'https://example.com/magento-portfolio'}],\n",
       " [{'links': 'https://example.com/react-portfolio'},\n",
       "  {'links': 'https://example.com/react-native-portfolio'}],\n",
       " [{'links': 'https://example.com/react-portfolio'},\n",
       "  {'links': 'https://example.com/ml-python-portfolio'}],\n",
       " [{'links': 'https://example.com/react-portfolio'},\n",
       "  {'links': 'https://example.com/magento-portfolio'}]]"
      ]
     },
     "execution_count": 39,
     "metadata": {},
     "output_type": "execute_result"
    }
   ],
   "source": [
    "links = collection.query(query_texts=job['skills'], n_results=2).get('metadatas', [])\n",
    "links"
   ]
  },
  {
   "cell_type": "code",
   "execution_count": 40,
   "id": "bfa1d048-e02f-4a0e-99ad-9149f18d250d",
   "metadata": {},
   "outputs": [],
   "source": [
    "prompt_email = PromptTemplate.from_template(\n",
    "        \"\"\"\n",
    "        ### JOB DESCRIPTION:\n",
    "        {job_description}\n",
    "        \n",
    "        ### INSTRUCTION:\n",
    "        You are Mohan, a business development executive at AtliQ. AtliQ is an AI & Software Consulting company dedicated to facilitating\n",
    "        the seamless integration of business processes through automated tools. \n",
    "        Over our experience, we have empowered numerous enterprises with tailored solutions, fostering scalability, \n",
    "        process optimization, cost reduction, and heightened overall efficiency. \n",
    "        Your job is to write a cold email to the client regarding the job mentioned above describing the capability of AtliQ \n",
    "        in fulfilling their needs.\n",
    "        Also add the most relevant ones from the following links to showcase Atliq's portfolio: {link_list}\n",
    "        Remember you are Mohan, BDE at AtliQ. \n",
    "        Do not provide a preamble.\n",
    "        ### EMAIL (NO PREAMBLE):\n",
    "        \n",
    "        \"\"\"\n",
    "        )"
   ]
  },
  {
   "cell_type": "code",
   "execution_count": 41,
   "id": "fd673ea2-a7af-4fce-a9b5-e88594f07064",
   "metadata": {},
   "outputs": [
    {
     "name": "stdout",
     "output_type": "stream",
     "text": [
      "Subject: Expert Software Engineering Solutions for Corporate Planning & Management\n",
      "\n",
      "Dear Hiring Manager,\n",
      "\n",
      "I came across the job description for a Software Engineer in Corporate Planning & Management, Platform Engineering, and I believe AtliQ can provide the expertise and solutions you need to drive your business forward.\n",
      "\n",
      "At AtliQ, we specialize in developing scalable, efficient systems using microservice architectures and cloud technologies such as AWS and Azure. Our team has extensive experience in designing and implementing solutions using SQL databases (PostgreSQL/Oracle/Sybase), Kafka, MongoDB, Hadoop, and Cassandra.\n",
      "\n",
      "Our expertise in Financial Services and FinTech, combined with our knowledge of financial markets and assets, makes us an ideal partner for your Corporate Planning & Management needs. We understand the importance of providing business planning and analytics, expense management, third-party risk management, and governance strategies that align with your firm's strategic objectives.\n",
      "\n",
      "Our portfolio showcases our capabilities in developing cutting-edge solutions using various technologies. Some relevant examples include:\n",
      "\n",
      "* Machine Learning and Python solutions: https://example.com/ml-python-portfolio\n",
      "* Cloud-based solutions using AWS and Azure: https://example.com/angular-portfolio\n",
      "* Data analytics and visualization using Kafka, MongoDB, and Cassandra: https://example.com/react-portfolio\n",
      "\n",
      "We would be delighted to discuss how our expertise can help you achieve your goals in Corporate Planning & Management. Please feel free to contact me to schedule a call.\n",
      "\n",
      "Best regards,\n",
      "\n",
      "Mohan\n",
      "Business Development Executive\n",
      "AtliQ\n"
     ]
    }
   ],
   "source": [
    "chain_email = prompt_email | llm\n",
    "res_email = chain_email.invoke({\"job_description\": str(job), \"link_list\": links})\n",
    "print(res_email.content)"
   ]
  },
  {
   "cell_type": "code",
   "execution_count": null,
   "id": "619eb414-bf16-41ce-bd24-0e559902d2ae",
   "metadata": {},
   "outputs": [],
   "source": []
  }
 ],
 "metadata": {
  "kernelspec": {
   "display_name": "Python 3 (ipykernel)",
   "language": "python",
   "name": "python3"
  },
  "language_info": {
   "codemirror_mode": {
    "name": "ipython",
    "version": 3
   },
   "file_extension": ".py",
   "mimetype": "text/x-python",
   "name": "python",
   "nbconvert_exporter": "python",
   "pygments_lexer": "ipython3",
   "version": "3.12.6"
  }
 },
 "nbformat": 4,
 "nbformat_minor": 5
}
