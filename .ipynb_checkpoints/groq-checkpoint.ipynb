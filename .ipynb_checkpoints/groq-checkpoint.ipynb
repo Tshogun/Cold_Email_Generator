{
 "cells": [
  {
   "cell_type": "code",
   "execution_count": 1,
   "id": "f792c621-9e30-4451-a5bb-bffcbeca795b",
   "metadata": {},
   "outputs": [],
   "source": [
    "from langchain_core.prompts import ChatPromptTemplate\n",
    "from langchain_groq import ChatGroq"
   ]
  },
  {
   "cell_type": "code",
   "execution_count": 4,
   "id": "3f4a1fad-c3a9-4330-9134-d1d7d517bb0d",
   "metadata": {},
   "outputs": [],
   "source": [
    "llm = ChatGroq(\n",
    "    model=\"llama-3.1-70b-versatile\",\n",
    "    temperature=0.0,\n",
    "    groq_api_key=\"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\",\n",
    ")"
   ]
  },
  {
   "cell_type": "raw",
   "id": "368a2405-d519-4f52-97a1-3bcb3cf97811",
   "metadata": {},
   "source": [
    "response = llm.invoke(\"How do you cold email for investment pitch?\")\n",
    "print(response.content)"
   ]
  },
  {
   "cell_type": "code",
   "execution_count": null,
   "id": "8ed6f26a-4be2-46b6-8c27-966b45dec680",
   "metadata": {},
   "outputs": [],
   "source": []
  }
 ],
 "metadata": {
  "kernelspec": {
   "display_name": "Python 3 (ipykernel)",
   "language": "python",
   "name": "python3"
  },
  "language_info": {
   "codemirror_mode": {
    "name": "ipython",
    "version": 3
   },
   "file_extension": ".py",
   "mimetype": "text/x-python",
   "name": "python",
   "nbconvert_exporter": "python",
   "pygments_lexer": "ipython3",
   "version": "3.12.6"
  }
 },
 "nbformat": 4,
 "nbformat_minor": 5
}
