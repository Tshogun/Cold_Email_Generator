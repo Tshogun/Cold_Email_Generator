{
 "cells": [
  {
   "cell_type": "code",
   "execution_count": 1,
   "id": "f792c621-9e30-4451-a5bb-bffcbeca795b",
   "metadata": {},
   "outputs": [],
   "source": [
    "from langchain_core.prompts import ChatPromptTemplate\n",
    "from langchain_groq import ChatGroq"
   ]
  },
  {
   "cell_type": "code",
   "execution_count": 2,
   "id": "3f4a1fad-c3a9-4330-9134-d1d7d517bb0d",
   "metadata": {},
   "outputs": [],
   "source": [
    "llm = ChatGroq(\n",
    "    model=\"llama-3.1-70b-versatile\",\n",
    "    temperature=0.0,\n",
    "    groq_api_key=\"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\",\n",
    ")"
   ]
  },
  {
   "cell_type": "code",
   "execution_count": 6,
   "id": "8ed6f26a-4be2-46b6-8c27-966b45dec680",
   "metadata": {},
   "outputs": [
    {
     "name": "stdout",
     "output_type": "stream",
     "text": [
      "Cold emailing for an investment pitch can be an effective way to reach potential investors, but it requires a strategic approach to grab their attention and persuade them to consider your proposal. Here's a step-by-step guide on how to cold email for an investment pitch:\n",
      "\n",
      "**Research and Preparation**\n",
      "\n",
      "1. **Identify potential investors**: Research and create a list of potential investors who have invested in similar startups or industries. Use online directories, such as Crunchbase, AngelList, or LinkedIn, to find investors.\n",
      "2. **Personalize your list**: Filter your list to ensure that the investors you're targeting are a good fit for your startup.\n",
      "3. **Prepare your pitch**: Develop a clear, concise, and compelling pitch that highlights your startup's unique value proposition, market opportunity, and competitive advantage.\n",
      "4. **Create a strong subject line**: Craft a subject line that grabs the investor's attention and encourages them to open the email.\n",
      "\n",
      "**Email Structure and Content**\n",
      "\n",
      "1. **Introduction**: Start with a brief introduction that explains how you came across the investor and why you're reaching out.\n",
      "2. **Problem statement**: Clearly articulate the problem your startup solves and the market opportunity.\n",
      "3. **Solution**: Describe your startup's solution and how it addresses the problem.\n",
      "4. **Traction and milestones**: Highlight any notable traction or milestones your startup has achieved.\n",
      "5. **Ask**: Clearly state what you're asking for (e.g., investment, meeting, or feedback).\n",
      "6. **Call-to-action**: Include a call-to-action (CTA) that encourages the investor to respond or schedule a meeting.\n",
      "7. **Closing**: End with a professional closing and your contact information.\n",
      "\n",
      "**Email Best Practices**\n",
      "\n",
      "1. **Keep it concise**: Keep your email brief and to the point (ideally under 150 words).\n",
      "2. **Use a clear and compelling subject line**: Use a subject line that accurately reflects the content of your email and grabs the investor's attention.\n",
      "3. **Use a professional tone**: Use a professional tone and avoid jargon or overly technical language.\n",
      "4. **Include a clear CTA**: Make it easy for the investor to respond or schedule a meeting.\n",
      "5. **Proofread**: Carefully proofread your email for spelling, grammar, and punctuation errors.\n",
      "\n",
      "**Example Email Template**\n",
      "\n",
      "Subject: Introducing [Startup Name] - Revolutionizing [Industry]\n",
      "\n",
      "Dear [Investor's Name],\n",
      "\n",
      "I came across your investment portfolio and was impressed by your focus on [industry/sector]. I'd like to introduce you to [Startup Name], a [briefly describe your startup and its mission].\n",
      "\n",
      "Our startup solves [problem statement] by [solution]. We've achieved [notable traction or milestones] and are seeking [amount] in funding to [briefly describe how you plan to use the funding].\n",
      "\n",
      "I'd love to schedule a meeting to discuss our proposal in more detail. If you're interested, please reply to this email or schedule a meeting using [Calendly link].\n",
      "\n",
      "Best regards,\n",
      "\n",
      "[Your Name]\n",
      "\n",
      "**Follow-up**\n",
      "\n",
      "1. **Wait a week**: Wait a week after sending the initial email before following up.\n",
      "2. **Send a follow-up email**: Send a brief follow-up email to reiterate your interest in connecting with the investor.\n",
      "3. **Use a different channel**: Consider using a different channel, such as LinkedIn or Twitter, to follow up with the investor.\n",
      "\n",
      "Remember that cold emailing is just one part of a larger outreach strategy. Be prepared to follow up with investors and engage in conversations to build relationships and secure funding.\n"
     ]
    }
   ],
   "source": [
    "response = llm.invoke(\"How to cold email for investment pitch?\")\n",
    "print(response.content)"
   ]
  },
  {
   "cell_type": "code",
   "execution_count": null,
   "id": "a085e3ba-566e-4c41-9ee4-c5d07506bf78",
   "metadata": {},
   "outputs": [],
   "source": []
  }
 ],
 "metadata": {
  "kernelspec": {
   "display_name": "Python 3 (ipykernel)",
   "language": "python",
   "name": "python3"
  },
  "language_info": {
   "codemirror_mode": {
    "name": "ipython",
    "version": 3
   },
   "file_extension": ".py",
   "mimetype": "text/x-python",
   "name": "python",
   "nbconvert_exporter": "python",
   "pygments_lexer": "ipython3",
   "version": "3.12.6"
  }
 },
 "nbformat": 4,
 "nbformat_minor": 5
}
